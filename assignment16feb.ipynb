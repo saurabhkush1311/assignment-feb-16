{
 "cells": [
  {
   "cell_type": "code",
   "execution_count": 3,
   "id": "3ddb15a9-461c-4dda-ad8d-15940a2cf85d",
   "metadata": {},
   "outputs": [
    {
     "data": {
      "text/plain": [
       "'SQL:\\n       1. Relational Database Management System (RDBMS).\\n       2. These databases have fixed or static or predefined schema.\\n       3. These databases are best suited for complex queries.\\n       4. Examples: MySQL, PostgreSQL, Oracle, MS-SQL Server, etc\\n       \\n    NoSQL:\\n          1. Non-relational or distributed database system.\\n          2. They have a dynamic schema.\\n          3. These databases are not so good for complex queries.\\n          4. Examples: MongoDB, GraphQL, HBase, Neo4j, Cassandra, etc.'"
      ]
     },
     "execution_count": 3,
     "metadata": {},
     "output_type": "execute_result"
    }
   ],
   "source": [
    "#Question1:\n",
    "#Answer:\n",
    "\"\"\"A database is a structured collection of data that is organized and managed in a way that allows for efficient storage, retrieval, and manipulation of information.\"\"\"\n",
    "# DIFFERENCE BETWEEN SQL AND NOSQL..\n",
    "\"\"\"SQL:\n",
    "       1. Relational Database Management System (RDBMS).\n",
    "       2. These databases have fixed or static or predefined schema.\n",
    "       3. These databases are best suited for complex queries.\n",
    "       4. Examples: MySQL, PostgreSQL, Oracle, MS-SQL Server, etc\n",
    "       \n",
    "    NoSQL:\n",
    "          1. Non-relational or distributed database system.\n",
    "          2. They have a dynamic schema.\n",
    "          3. These databases are not so good for complex queries.\n",
    "          4. Examples: MongoDB, GraphQL, HBase, Neo4j, Cassandra, etc.\"\"\"\n",
    "          \n",
    "       \n",
    "       \n"
   ]
  },
  {
   "cell_type": "code",
   "execution_count": 4,
   "id": "e74f5a5e-8756-422d-afb0-5d4fd9de8abd",
   "metadata": {},
   "outputs": [
    {
     "data": {
      "text/plain": [
       "'DDL stands for Data Definition Language, which is a subset of SQL (Structured Query Language) used for defining and managing the structure of a database.\\nDDL commands are used to create, modify, and delete database objects such as tables, indexes, views, and schemas.'"
      ]
     },
     "execution_count": 4,
     "metadata": {},
     "output_type": "execute_result"
    }
   ],
   "source": [
    "#Question6:\n",
    "#Answer:\n",
    "\"\"\"DDL stands for Data Definition Language, which is a subset of SQL (Structured Query Language) used for defining and managing the structure of a database.\n",
    "DDL commands are used to create, modify, and delete database objects such as tables, indexes, views, and schemas.\"\"\""
   ]
  },
  {
   "cell_type": "code",
   "execution_count": 13,
   "id": "6510d067-eb8e-41f1-87dc-283a0baaff22",
   "metadata": {},
   "outputs": [
    {
     "data": {
      "text/plain": [
       "' CREATE TABLE pw(c1 INT,c2 FLOAT);'"
      ]
     },
     "execution_count": 13,
     "metadata": {},
     "output_type": "execute_result"
    }
   ],
   "source": [
    "\"\"\" 1. CREATE : The CREATE command is used to create new database objects, such as tables, views, or indexes.\"\"\"\n",
    "#EXAMPLE:\n",
    "\" CREATE TABLE pw(c1 INT,c2 FLOAT);\""
   ]
  },
  {
   "cell_type": "code",
   "execution_count": 10,
   "id": "28f906e9-55f8-4ea7-9442-a6449bad1058",
   "metadata": {},
   "outputs": [
    {
     "data": {
      "text/plain": [
       "' DROP TABLE employees;'"
      ]
     },
     "execution_count": 10,
     "metadata": {},
     "output_type": "execute_result"
    }
   ],
   "source": [
    "\"\"\" 2. DROP: The DROP command is used to remove existing database objects, such as tables or views.\"\"\"\n",
    "#EXAMPLE:\n",
    "\" DROP TABLE employees;\""
   ]
  },
  {
   "cell_type": "code",
   "execution_count": 11,
   "id": "835b1de8-479f-4902-9cee-7c46210348ce",
   "metadata": {},
   "outputs": [
    {
     "data": {
      "text/plain": [
       "' ALTER TABLE employees\\n    ADD COLUMN email VARCHAR(100);'"
      ]
     },
     "execution_count": 11,
     "metadata": {},
     "output_type": "execute_result"
    }
   ],
   "source": [
    "\"\"\" 3. ALTER : The ALTER command is used to modify the structure of an existing database object.\"\"\"\n",
    "#EXAMPLE:\n",
    "\"\"\" ALTER TABLE employees\n",
    "    ADD COLUMN email VARCHAR(100);\"\"\""
   ]
  },
  {
   "cell_type": "code",
   "execution_count": 12,
   "id": "d504c999-5a82-4880-8e0b-2b79589996df",
   "metadata": {},
   "outputs": [
    {
     "data": {
      "text/plain": [
       "' TRUNCATE TABLE employess;'"
      ]
     },
     "execution_count": 12,
     "metadata": {},
     "output_type": "execute_result"
    }
   ],
   "source": [
    "\"\"\" 4. TRUNCATE : The TRUNCATE command is used to remove all data from a table, but it retains the table's structure.\"\"\"\n",
    "#EXAMPLE:\n",
    "\" TRUNCATE TABLE employess;\""
   ]
  },
  {
   "cell_type": "code",
   "execution_count": 14,
   "id": "7b4be684-2bb5-4beb-86db-6b7f8a5731fd",
   "metadata": {},
   "outputs": [
    {
     "data": {
      "text/plain": [
       "'DML stands for Data Manipulation Language, which is a subset of SQL (Structured Query Language) used for manipulating data stored in a database.\\nDML commands allow you to insert, update, and delete records within database tables.'"
      ]
     },
     "execution_count": 14,
     "metadata": {},
     "output_type": "execute_result"
    }
   ],
   "source": [
    "#Question3:\n",
    "#Answer:\n",
    "\"\"\"DML stands for Data Manipulation Language, which is a subset of SQL (Structured Query Language) used for manipulating data stored in a database.\n",
    "DML commands allow you to insert, update, and delete records within database tables.\"\"\""
   ]
  },
  {
   "cell_type": "code",
   "execution_count": 15,
   "id": "2574298c-d5bf-4d39-a219-e1e739296028",
   "metadata": {},
   "outputs": [
    {
     "data": {
      "text/plain": [
       "\" INSERT INTO employees VALUES (1, 'John', 'Doe', 'Sales'); \""
      ]
     },
     "execution_count": 15,
     "metadata": {},
     "output_type": "execute_result"
    }
   ],
   "source": [
    "\"\"\" 1. INSERT : The INSERT command is used to add new records (rows) into a table. You can specify the column names and their corresponding values to be inserted.\"\"\"\n",
    "#EXAMPLE:\n",
    "\" INSERT INTO employees VALUES (1, 'John', 'Doe', 'Sales'); \"\n"
   ]
  },
  {
   "cell_type": "code",
   "execution_count": 16,
   "id": "bbee4bd7-f001-4843-bdc7-ef3f367e8eb5",
   "metadata": {},
   "outputs": [
    {
     "data": {
      "text/plain": [
       "\" UPDATE employees\\n    SET department = 'Marketing'\\n    WHERE id = 1; \""
      ]
     },
     "execution_count": 16,
     "metadata": {},
     "output_type": "execute_result"
    }
   ],
   "source": [
    "\"\"\" 2. UPDATE : The UPDATE command is used to modify existing records in a table. You can specify which records to update and the new values for the desired columns.\"\"\"\n",
    "#EXAMPLE:\n",
    "\"\"\" UPDATE employees\n",
    "    SET department = 'Marketing'\n",
    "    WHERE id = 1; \"\"\"\n"
   ]
  },
  {
   "cell_type": "code",
   "execution_count": 17,
   "id": "cf0caa92-6661-4aa9-a5c7-38b5136217d3",
   "metadata": {},
   "outputs": [
    {
     "data": {
      "text/plain": [
       "' DELETE FROM employees\\n    WHERE id = 1; '"
      ]
     },
     "execution_count": 17,
     "metadata": {},
     "output_type": "execute_result"
    }
   ],
   "source": [
    "\"\"\" 3. DELETE : records from a table. You can specify a condition to determine which records to delete.\"\"\"\n",
    "#EXAMPLE:\n",
    "\"\"\" DELETE FROM employees\n",
    "    WHERE id = 1; \"\"\"\n"
   ]
  },
  {
   "cell_type": "code",
   "execution_count": 18,
   "id": "8186b2d5-7cf2-4292-b689-1c8a25ee4783",
   "metadata": {},
   "outputs": [
    {
     "data": {
      "text/plain": [
       "' DQL stands for Data Query Language, which is a subset of SQL (Structured Query Language) used for querying and retrieving data from a database.\\nDQL commands are primarily focused on retrieving information from tables and views without altering the data itself.'"
      ]
     },
     "execution_count": 18,
     "metadata": {},
     "output_type": "execute_result"
    }
   ],
   "source": [
    "#Question4:\n",
    "#Answer:\n",
    "\"\"\" DQL stands for Data Query Language, which is a subset of SQL (Structured Query Language) used for querying and retrieving data from a database.\n",
    "DQL commands are primarily focused on retrieving information from tables and views without altering the data itself.\"\"\""
   ]
  },
  {
   "cell_type": "code",
   "execution_count": 21,
   "id": "f226ffa0-5fa7-443c-8113-2966f8503732",
   "metadata": {},
   "outputs": [
    {
     "data": {
      "text/plain": [
       "' SELECT :  \\n\\nWE HAVE DATABASE employees AND HAVE TABE details TO FETCH DATA FROM TABLE\\n\\nSELECT * FROM details;\\n\\nOUTPUT:\\n\\n| id | first_name | last_name | department | salary |\\n|----|------------|-----------|------------|--------|\\n| 1  | John       | Doe       | Sales      | 50000  |\\n| 2  | Jane       | Smith     | HR         | 60000  |\\n| 3  | Mike       | Johnson   | Marketing  | 55000  |\\n| 4  | Emily      | Brown     | IT         | 65000  |   '"
      ]
     },
     "execution_count": 21,
     "metadata": {},
     "output_type": "execute_result"
    }
   ],
   "source": [
    "\"\"\" SELECT :  \n",
    "\n",
    "WE HAVE DATABASE employees AND HAVE TABE details TO FETCH DATA FROM TABLE\n",
    "\n",
    "SELECT * FROM details;\n",
    "\n",
    "OUTPUT:\n",
    "\n",
    "| id | first_name | last_name | department | salary |\n",
    "|----|------------|-----------|------------|--------|\n",
    "| 1  | John       | Doe       | Sales      | 50000  |\n",
    "| 2  | Jane       | Smith     | HR         | 60000  |\n",
    "| 3  | Mike       | Johnson   | Marketing  | 55000  |\n",
    "| 4  | Emily      | Brown     | IT         | 65000  |   \"\"\"\n"
   ]
  },
  {
   "cell_type": "code",
   "execution_count": 23,
   "id": "ea38037f-3626-4896-bb0a-34bc6711beba",
   "metadata": {},
   "outputs": [
    {
     "data": {
      "text/plain": [
       "' PRIMARY KEY :\\n                 A Primary Key is a column or set of columns in a table that uniquely identifies each row in that table.\\n                 It serves as a unique identifier for each record, and no two rows can have the same primary key value.\\n                 A primary key is crucial because it enables efficient data retrieval and maintains data integrity within the table.\\n                 \\nProperties of a Primary Key:\\n\\nUniqueness: Each value in the primary key column(s) must be unique.\\nNon-null: The primary key column(s) cannot contain NULL values, ensuring that every record has a valid identifier.\\nFixed: The value(s) of the primary key should not change after it has been assigned.\\n\\n| id (Primary Key) | first_name | last_name | department |\\n|------------------|------------|-----------|------------|\\n| 1                | John       | Doe       | Sales      |\\n| 2                | Jane       | Smith     | HR         |\\n| 3                | Mike       | Johnson   | Marketing  |\\n| 4                | Emily      | Brown     | IT         |\\n\\nIn this example, the \"id\" column is the primary key, and each value in this column is unique, identifying each employee uniquely in the \"employees\" table.'"
      ]
     },
     "execution_count": 23,
     "metadata": {},
     "output_type": "execute_result"
    }
   ],
   "source": [
    "#Question6:\n",
    "#Answer:\n",
    "\"\"\" PRIMARY KEY :\n",
    "                 A Primary Key is a column or set of columns in a table that uniquely identifies each row in that table.\n",
    "                 It serves as a unique identifier for each record, and no two rows can have the same primary key value.\n",
    "                 A primary key is crucial because it enables efficient data retrieval and maintains data integrity within the table.\n",
    "                 \n",
    "Properties of a Primary Key:\n",
    "\n",
    "Uniqueness: Each value in the primary key column(s) must be unique.\n",
    "Non-null: The primary key column(s) cannot contain NULL values, ensuring that every record has a valid identifier.\n",
    "Fixed: The value(s) of the primary key should not change after it has been assigned.\n",
    "\n",
    "| id (Primary Key) | first_name | last_name | department |\n",
    "|------------------|------------|-----------|------------|\n",
    "| 1                | John       | Doe       | Sales      |\n",
    "| 2                | Jane       | Smith     | HR         |\n",
    "| 3                | Mike       | Johnson   | Marketing  |\n",
    "| 4                | Emily      | Brown     | IT         |\n",
    "\n",
    "In this example, the \"id\" column is the primary key, and each value in this column is unique, identifying each employee uniquely in the \"employees\" table.\"\"\""
   ]
  },
  {
   "cell_type": "code",
   "execution_count": 24,
   "id": "c931561c-6a45-45ba-93f8-81b65fe23785",
   "metadata": {},
   "outputs": [
    {
     "data": {
      "text/plain": [
       "' FOREIGN KEY :\\n                  A Foreign Key is a column or set of columns in a table that establishes a link to the Primary Key of another table.\\n                  It represents a relationship between two tables, ensuring referential integrity.\\n                  The Foreign Key column in one table refers to the Primary Key column in another table, creating a connection between the related data.\\n                  \\nProperties of a Foreign Key:\\n\\nIt references the Primary Key of another table.\\nThe values of the Foreign Key column must match the values in the referenced Primary Key column, or be NULL if the relationship is optional (nullable).\\n\\n\\n| department_id (Primary Key) | department_name |\\n|----------------------------|-----------------|\\n| 101                        | Sales           |\\n| 102                        | HR              |\\n| 103                        | Marketing       |\\n| 104                        | IT              |\\n\\n\\n| id (Primary Key) | first_name | last_name | department (Foreign Key) |\\n|------------------|------------|-----------|-------------------------|\\n| 1                | John       | Doe       | 101                     |\\n| 2                | Jane       | Smith     | 102                     |\\n| 3                | Mike       | Johnson   | 103                     |\\n| 4                | Emily      | Brown     | 104                     |\\n\\nIn this example, the \"department\" column in the \"employees\" table is a Foreign Key that references the \"department_id\" column in the \"departments\" table.\\nThis establishes a relationship between the \"employees\" and \"departments\" tables, allowing us to associate each employee with a specific department using the Foreign Key.\\nThis ensures referential integrity, meaning that each department referenced in the \"employees\" table must exist in the \"departments\" table.\\nIf a department is deleted from the \"departments\" table, any related employee records would be affected based on the database\\'s specified action (e.g., restrict, cascade, set NULL, etc.).'"
      ]
     },
     "execution_count": 24,
     "metadata": {},
     "output_type": "execute_result"
    }
   ],
   "source": [
    "\"\"\" FOREIGN KEY :\n",
    "                  A Foreign Key is a column or set of columns in a table that establishes a link to the Primary Key of another table.\n",
    "                  It represents a relationship between two tables, ensuring referential integrity.\n",
    "                  The Foreign Key column in one table refers to the Primary Key column in another table, creating a connection between the related data.\n",
    "                  \n",
    "Properties of a Foreign Key:\n",
    "\n",
    "It references the Primary Key of another table.\n",
    "The values of the Foreign Key column must match the values in the referenced Primary Key column, or be NULL if the relationship is optional (nullable).\n",
    "\n",
    "\n",
    "| department_id (Primary Key) | department_name |\n",
    "|----------------------------|-----------------|\n",
    "| 101                        | Sales           |\n",
    "| 102                        | HR              |\n",
    "| 103                        | Marketing       |\n",
    "| 104                        | IT              |\n",
    "\n",
    "\n",
    "| id (Primary Key) | first_name | last_name | department (Foreign Key) |\n",
    "|------------------|------------|-----------|-------------------------|\n",
    "| 1                | John       | Doe       | 101                     |\n",
    "| 2                | Jane       | Smith     | 102                     |\n",
    "| 3                | Mike       | Johnson   | 103                     |\n",
    "| 4                | Emily      | Brown     | 104                     |\n",
    "\n",
    "In this example, the \"department\" column in the \"employees\" table is a Foreign Key that references the \"department_id\" column in the \"departments\" table.\n",
    "This establishes a relationship between the \"employees\" and \"departments\" tables, allowing us to associate each employee with a specific department using the Foreign Key.\n",
    "This ensures referential integrity, meaning that each department referenced in the \"employees\" table must exist in the \"departments\" table.\n",
    "If a department is deleted from the \"departments\" table, any related employee records would be affected based on the database's specified action (e.g., restrict, cascade, set NULL, etc.).\"\"\"\n",
    "\n",
    "\n",
    "\n",
    "\n",
    "\n"
   ]
  },
  {
   "cell_type": "code",
   "execution_count": 27,
   "id": "cad0ccf7-4d35-4484-9c2f-fd14cb68586b",
   "metadata": {},
   "outputs": [
    {
     "data": {
      "text/plain": [
       "'\\nimport mysql.connector\\ndb = mysql.connector.connect(\\n    host = \"localhost\",\\n    user = \"abc\",\\n    password = \"password\"\\n)\\nmycursor = db.cursor()\\n\\n'"
      ]
     },
     "execution_count": 27,
     "metadata": {},
     "output_type": "execute_result"
    }
   ],
   "source": [
    "#Question6:\n",
    "#Answer:\n",
    "\"\"\"\n",
    "import mysql.connector\n",
    "db = mysql.connector.connect(\n",
    "    host = \"localhost\",\n",
    "    user = \"abc\",\n",
    "    password = \"password\"\n",
    ")\n",
    "mycursor = db.cursor()\n",
    "\n",
    "\"\"\""
   ]
  },
  {
   "cell_type": "code",
   "execution_count": 29,
   "id": "837efba2-c51e-485e-86f5-f2206ff082cf",
   "metadata": {},
   "outputs": [
    {
     "data": {
      "text/plain": [
       "' 1. CURSOR() : The cursor() method creates a cursor object, which acts as a pointer to the database.\\n        mycursor = db.cursor()\\n    \\n    2. EXECUTE(): The execute() method is used to execute SQL queries or commands through the cursor object.\\n        cursor.execute(\"SELECT * FROM table_name\")\\n'"
      ]
     },
     "execution_count": 29,
     "metadata": {},
     "output_type": "execute_result"
    }
   ],
   "source": [
    "\"\"\" 1. CURSOR() : The cursor() method creates a cursor object, which acts as a pointer to the database.\n",
    "        mycursor = db.cursor()\n",
    "    \n",
    "    2. EXECUTE(): The execute() method is used to execute SQL queries or commands through the cursor object.\n",
    "        cursor.execute(\"SELECT * FROM table_name\")\n",
    "\"\"\"\n"
   ]
  },
  {
   "cell_type": "code",
   "execution_count": 31,
   "id": "61735222-9755-4da2-91d8-565fb41f94d2",
   "metadata": {},
   "outputs": [
    {
     "data": {
      "text/plain": [
       "' order of execution of SQL clauses in an SQL query.\\n    1. SELECT\\n    2. FROM\\n    3. WHERE\\n    4. GROUP BY\\n    5. HAVING\\n    6. ORDER BY\\n    7. LIMIT/OFFSET\\n    \\n'"
      ]
     },
     "execution_count": 31,
     "metadata": {},
     "output_type": "execute_result"
    }
   ],
   "source": [
    "#Question7:\n",
    "#Answer:\n",
    "\"\"\" order of execution of SQL clauses in an SQL query.\n",
    "    1. SELECT\n",
    "    2. FROM\n",
    "    3. WHERE\n",
    "    4. GROUP BY\n",
    "    5. HAVING\n",
    "    6. ORDER BY\n",
    "    7. LIMIT/OFFSET\n",
    "    \n",
    "\"\"\""
   ]
  },
  {
   "cell_type": "code",
   "execution_count": null,
   "id": "75b39c4c-80bc-48ee-a415-48b9ff9bb3ed",
   "metadata": {},
   "outputs": [],
   "source": []
  }
 ],
 "metadata": {
  "kernelspec": {
   "display_name": "Python 3 (ipykernel)",
   "language": "python",
   "name": "python3"
  },
  "language_info": {
   "codemirror_mode": {
    "name": "ipython",
    "version": 3
   },
   "file_extension": ".py",
   "mimetype": "text/x-python",
   "name": "python",
   "nbconvert_exporter": "python",
   "pygments_lexer": "ipython3",
   "version": "3.10.6"
  }
 },
 "nbformat": 4,
 "nbformat_minor": 5
}
